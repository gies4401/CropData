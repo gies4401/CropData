{
 "cells": [
  {
   "cell_type": "code",
   "execution_count": 1,
   "metadata": {},
   "outputs": [],
   "source": [
    "#Ukraine\n",
    "    #Here is the link I found good data at: http://www.ukrstat.gov.ua/   \n",
    "    #Requires the use of a translator of some sort, I could not get the automatic translator on google to work for this site in translating the whole page. Instead, I found it easier to download a translate phone app and utilize the camera on it so I could hold it up to my computer screen and translate what I can see. Or copying and pasting different things into google translate works, too. I was unable to start working with this data."
   ]
  },
  {
   "cell_type": "code",
   "execution_count": null,
   "metadata": {},
   "outputs": [],
   "source": [
    "#Australia\n",
    "    #https://www.abs.gov.au/AUSSTATS/abs@.nsf/second+level+view?ReadForm&prodno=7121.0&viewtitle=Agricultural%20Commodities,%20Australia~2016-17~Previous~21/05/2018&&tabname=Past%20Future%20Issues&prodno=7121.0&issue=2016-17&num=&view=&\n",
    "    #Found data that goes back to 1997, but was unable to get started on it. Each set of years for a growing season has its own pdf for downloading. "
   ]
  }
 ],
 "metadata": {
  "kernelspec": {
   "display_name": "Python 3",
   "language": "python",
   "name": "python3"
  },
  "language_info": {
   "codemirror_mode": {
    "name": "ipython",
    "version": 3
   },
   "file_extension": ".py",
   "mimetype": "text/x-python",
   "name": "python",
   "nbconvert_exporter": "python",
   "pygments_lexer": "ipython3",
   "version": "3.7.6"
  }
 },
 "nbformat": 4,
 "nbformat_minor": 4
}
