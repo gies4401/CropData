{
 "cells": [
  {
   "cell_type": "code",
   "execution_count": 46,
   "metadata": {},
   "outputs": [
    {
     "name": "stdout",
     "output_type": "stream",
     "text": [
      "Loading C:\\Users\\Sydney\\Documents\\2020 Internship\\Canada\\ctywwheat2004_19.xlsx into pandas\n"
     ]
    }
   ],
   "source": [
    "#ALL CANADA DATA FOUND AT THIS SITE http://www.omafra.gov.on.ca/english/stats/crops/index.html\n",
    "# This site gives data for every county in Canada on wheat, soybeans, and corn froom 2004-2019.\n",
    "#This site also gives national wheat, soybean, and corn data from 1981-2017 (this data can be found as the last piece of code on this page)\n",
    "#Here is a site I found that had data back to 1908, however it is not as specific wth crop types or location: https://www.agr.gc.ca/eng/crops/reports-and-statistics-data-for-canadian-principal-field-crops/?id=1378743094676\n",
    "\n",
    "#Winter Wheat 2004-2019; All counties\n",
    "import pandas as pd\n",
    "excel_file = r'C:\\Users\\Sydney\\Documents\\2020 Internship\\Canada\\ctywwheat2004_19.xlsx'\n",
    "def read_excel_sheets(excel_file):\n",
    "    \"\"\"Read all sheets of an Excel workbook and return a single DataFrame\"\"\"\n",
    "    xl = pd.ExcelFile(excel_file)\n",
    "    df = pd.DataFrame()\n",
    "    columns = None\n",
    "    for idx, name in enumerate(xl.sheet_names):\n",
    "        sheet = xl.parse(name, nrows=56)\n",
    "        if idx == 0:\n",
    "            # Save column names from the first sheet to match for append\n",
    "            columns = sheet.columns\n",
    "        sheet.columns = columns\n",
    "        # Assume index of existing data frame when appended\n",
    "        df = df.append(sheet, ignore_index=True)\n",
    "        df.replace(\"X\", \"N/A\", inplace=True)\n",
    "    return df\n",
    "stops = read_excel_sheets(excel_file)\n",
    "stops.to_csv('CanadaWinterWheat2004-2019.csv', sep = \",\", index=False)"
   ]
  },
  {
   "cell_type": "code",
   "execution_count": 52,
   "metadata": {},
   "outputs": [
    {
     "name": "stdout",
     "output_type": "stream",
     "text": [
      "Loading C:\\Users\\Sydney\\Documents\\2020 Internship\\Canada\\ctygcorn2004_19.xlsx into pandas\n"
     ]
    }
   ],
   "source": [
    "#Corn 2004-2019; All counties\n",
    "import pandas as pd\n",
    "excel_file = r'C:\\Users\\Sydney\\Documents\\2020 Internship\\Canada\\ctygcorn2004_19.xlsx'\n",
    "def read_excel_sheets(excel_file):\n",
    "    \"\"\"Read all sheets of an Excel workbook and return a single DataFrame\"\"\"\n",
    "    xl = pd.ExcelFile(excel_file)\n",
    "    df = pd.DataFrame()\n",
    "    columns = None\n",
    "    for idx, name in enumerate(xl.sheet_names):\n",
    "        sheet = xl.parse(name, nrows=56)\n",
    "        if idx == 0:\n",
    "            # Save column names from the first sheet to match for append\n",
    "            columns = sheet.columns\n",
    "        sheet.columns = columns\n",
    "        # Assume index of existing data frame when appended\n",
    "        df = df.append(sheet, ignore_index=True)\n",
    "        df.replace(\"x\", \"N/A\", inplace=True)\n",
    "        df.replace(\"-\", \"N/A\", inplace=True)\n",
    "        df.replace(\"X\", \"N/A\", inplace=True)\n",
    "        df.replace(\" \", \"N/A\", inplace=True)\n",
    "    return df\n",
    "stops = read_excel_sheets(excel_file)\n",
    "stops.to_csv('CanadaCorn2004-2019.csv', sep = \",\", index=False)"
   ]
  },
  {
   "cell_type": "code",
   "execution_count": 62,
   "metadata": {},
   "outputs": [
    {
     "name": "stdout",
     "output_type": "stream",
     "text": [
      "Loading C:\\Users\\Sydney\\Documents\\2020 Internship\\Canada\\soy04_19.xlsx into pandas\n"
     ]
    }
   ],
   "source": [
    "#Soy 2004-2019; All counties\n",
    "import pandas as pd\n",
    "excel_file = r'C:\\Users\\Sydney\\Documents\\2020 Internship\\Canada\\soy04_19.xlsx'\n",
    "def read_excel_sheets(excel_file):\n",
    "    \"\"\"Read all sheets of an Excel workbook and return a single DataFrame\"\"\"\n",
    "    xl = pd.ExcelFile(excel_file)\n",
    "    df = pd.DataFrame()\n",
    "    columns = None\n",
    "    for idx, name in enumerate(xl.sheet_names):\n",
    "        sheet = xl.parse(name, nrows=56)\n",
    "        if idx == 0:\n",
    "            # Save column names from the first sheet to match for append\n",
    "            columns = sheet.columns\n",
    "        sheet.columns = columns\n",
    "        # Assume index of existing data frame when appended\n",
    "        df = df.append(sheet, ignore_index=True)\n",
    "        df.replace(\"x\", \"N/A\", inplace=True)\n",
    "        df.replace(\"-\", \"N/A\", inplace=True)\n",
    "        df.replace(\"X\", \"N/A\", inplace=True)\n",
    "        df.replace(\" \", \"N/A\", inplace=True)\n",
    "    return df\n",
    "stops = read_excel_sheets(excel_file)\n",
    "stops.to_csv('CanadaSoy2004-2019.csv', sep = \",\", index=False)"
   ]
  },
  {
   "cell_type": "code",
   "execution_count": 68,
   "metadata": {},
   "outputs": [
    {
     "name": "stdout",
     "output_type": "stream",
     "text": [
      "Loading C:\\Users\\Sydney\\Documents\\2020 Internship\\Canada\\ProvincialEstimates.xlsx into pandas\n"
     ]
    }
   ],
   "source": [
    "#National Data for wheat, corn, and soybeans; 1981-2017\n",
    "import pandas as pd\n",
    "excel_file = r'C:\\Users\\Sydney\\Documents\\2020 Internship\\Canada\\ProvincialEstimates.xlsx'\n",
    "def read_excel_sheets(excel_file):\n",
    "    \"\"\"Read all sheets of an Excel workbook and return a single DataFrame\"\"\"\n",
    "    xl = pd.ExcelFile(excel_file)\n",
    "    df = pd.DataFrame()\n",
    "    columns = None\n",
    "    for idx, name in enumerate(xl.sheet_names):\n",
    "        sheet = xl.parse(name, nrows=40)\n",
    "        if idx == 0:\n",
    "            # Save column names from the first sheet to match for append\n",
    "            columns = sheet.columns\n",
    "        sheet.columns = columns\n",
    "        # Assume index of existing data frame when appended\n",
    "        df = df.append(sheet, ignore_index=True)\n",
    "        df.replace(\"x\", \"N/A\", inplace=True)\n",
    "        df.replace(\"-\", \"N/A\", inplace=True)\n",
    "        df.replace(\"X\", \"N/A\", inplace=True)\n",
    "        df.replace(\" \", \"N/A\", inplace=True)\n",
    "    return df\n",
    "stops = read_excel_sheets(excel_file)\n",
    "stops.to_csv('CanadaEstimates1981-2017.csv', sep = \",\", index=False)"
   ]
  },
  {
   "cell_type": "code",
   "execution_count": null,
   "metadata": {},
   "outputs": [],
   "source": []
  }
 ],
 "metadata": {
  "kernelspec": {
   "display_name": "Python 3",
   "language": "python",
   "name": "python3"
  },
  "language_info": {
   "codemirror_mode": {
    "name": "ipython",
    "version": 3
   },
   "file_extension": ".py",
   "mimetype": "text/x-python",
   "name": "python",
   "nbconvert_exporter": "python",
   "pygments_lexer": "ipython3",
   "version": "3.7.6"
  }
 },
 "nbformat": 4,
 "nbformat_minor": 4
}
